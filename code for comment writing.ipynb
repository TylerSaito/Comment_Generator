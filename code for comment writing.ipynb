{
 "cells": [
  {
   "cell_type": "code",
   "execution_count": 0,
   "metadata": {
    "collapsed": false
   },
   "outputs": [
   ],
   "source": [
    "# !!!CSV FILE DETAILS!!!\n",
    "# file is a spreadsheet imported as a csv file. for each student it lists their name, 2-3 positive attributes and 2-3 negative attributes (part of speech MUST be adjectives otherwise grammar looks weird), 3 grades for problem sets (separated by /'s), 4 test grades, 3 assignment grades, 2-3 learning outcomes (in LO# format) that are strengths and 2-3 weaknesses, and the overall grade in A+/A/A- format"
   ]
  },
  {
   "cell_type": "code",
   "execution_count": 4,
   "metadata": {
    "collapsed": false
   },
   "outputs": [
    {
     "name": "stdout",
     "output_type": "stream",
     "text": [
      "['Student Name', 'Good attributes', 'Bad attributes', 'Problem sets', 'Tests', 'Assignments', 'strengths', 'weakness', 'overall grade']\n",
      "[['Evelyn', 'hardworking/humorous', 'talkative/disruptive/sometimes late to class', '90/65/45', '78/83/92/95', '67/65/68', 'LO4/LO5', 'LO3/LO2/LO6', 'B'], ['Tyler', 'creative/helpful', 'sometimes late to class/procrastinating assignments', '78/83/96', '80/85/83/87', '95/89/84', 'LO7/LO3', 'LO5/LO6/LO4', 'A-'], ['Maija', 'caring/compassionate', 'lazy/impatient/unresponsive', '93/90/95', '78/84/87/91', '55/64/78', 'LO2/LO5/LO7', 'LO4/LO1', 'B+'], ['Caiden', 'communicative/trustworthy/honest', 'irresponsible/negative/stubborn', '60/65/77', '90/80/75/70', '80/82/78', 'LO1/LO6', 'LO2/LO3/LO4', 'C+']]\n"
     ]
    }
   ],
   "source": [
    "# reading the CSV file into a list to access it easier\n",
    "\n",
    "INFORMATION = []\n",
    "import csv\n",
    "\n",
    "with open('Comment writing - Sheet1.csv') as csvfile:\n",
    "    f = csv.reader(csvfile, delimiter=',')\n",
    "    HEADER = next(f)\n",
    "    for row in f:\n",
    "        INFORMATION.append(row)\n",
    "print(HEADER)       \n",
    "print(INFORMATION)"
   ]
  },
  {
   "cell_type": "code",
   "execution_count": 5,
   "metadata": {
    "collapsed": false
   },
   "outputs": [
   ],
   "source": [
    "# assigns the learning outcome shorthands to the description\n",
    "\n",
    "LO_dict = {'LO1':'Identify/characterize/define a programming problem',\n",
    "          'LO2': 'Understand and be able to use a variety of data types, control structures, and algorithmic problem-solving techniques in their programming',\n",
    "          'LO3': 'Design, document, implement and test solutions to programming problems',\n",
    "          'LO4': 'Express creativity using coding and technology in a variety of contexts',\n",
    "          'LO5': 'Identify and repair coding errors in a program',\n",
    "          'LO6': 'effectively communicate programming solutions to others',\n",
    "          'LO7': 'work collaboratively to write modular code on larger projects'}"
   ]
  },
  {
   "cell_type": "code",
   "execution_count": 22,
   "metadata": {
    "collapsed": false
   },
   "outputs": [
    {
     "data": {
      "text/plain": [
       "' Evelyn, you have some great positive attributes! You are hardworking and humorous. Keep these great traits up in the second semester, they will help you grow and learn as both a person and a learner, specifically your hardworking tendency. You also have some things you need to work on. I have noticed that this past semester you have been talkative, disruptive, direspectufl, and sometimes late to class. It would be great if you could keep these in check in this upcoming semester, especially being direspectufl.'"
      ]
     },
     "execution_count": 22,
     "metadata": {
     },
     "output_type": "execute_result"
    }
   ],
   "source": [
    "# creates a sentence based on good and bad attributes\n",
    "\n",
    "def attributes(studentinfo):\n",
    "    name = studentinfo[0]\n",
    "    good = studentinfo[1].split('/')\n",
    "    bad = studentinfo[2].split('/')\n",
    "    gsentence = f' {name}, you have some great positive attributes!'\n",
    "    gatts = ' You are '\n",
    "    finalg = f' Keep these great traits up in the second semester, they will help you grow and learn as both a person and a learner, specifically your {good[-2]} tendency.'\n",
    "    for i in range(len(good)):\n",
    "        gatts += good[i]\n",
    "        if len(good) > 2 and good[i] == good[-2]:\n",
    "            gatts += ', and '\n",
    "            continue\n",
    "        if len(good) == 2 and good[i] == good[-2]:\n",
    "            gatts += ' and '\n",
    "            continue\n",
    "        if good[i] != good[-1]:\n",
    "            gatts += ', '\n",
    "        else:\n",
    "            gatts += '.'\n",
    "    bsentence = f' You also have some things you need to work on.'\n",
    "    batts = ' I have noticed that this past semester you have been '\n",
    "    finalb = f' It would be great if you could keep these in check in this upcoming semester, especially being {bad[-2]}.'\n",
    "    for i in range(len(bad)):\n",
    "        batts += bad[i]\n",
    "        if len(bad) > 2 and bad[i] == bad[-2]:\n",
    "            batts += ', and '\n",
    "            continue\n",
    "        if len(bad) == 2 and bad[i] == bad[-2]:\n",
    "            batts += ' and '\n",
    "            continue\n",
    "        if bad[i] != bad[-1]:\n",
    "            batts += ', '\n",
    "        else:\n",
    "            batts += '.'\n",
    "    return str(gsentence + gatts + finalg + bsentence+ batts + finalb)\n",
    "attributes(['Evelyn', 'hardworking/humorous', 'talkative/disruptive/direspectufl/sometimes late to class', '90/65/45', '78/83/92/95', '67/65/68', 'LO4/LO5', 'LO3/LO2/LO6', 'B'])    "
   ]
  },
  {
   "cell_type": "code",
   "execution_count": 9,
   "metadata": {
    "collapsed": false
   },
   "outputs": [
    {
     "data": {
      "text/plain": [
       "'fourth test and third test'"
      ]
     },
     "execution_count": 9,
     "metadata": {
     },
     "output_type": "execute_result"
    }
   ],
   "source": [
    "# function that returns a string describing the highest two scoring tests/assignments/problem sets so I can reference them in comment writing\n",
    "# returns what number it is and what type of assignment\n",
    "\n",
    "def top_scores(studentinfo):\n",
    "    scores = []\n",
    "    for i in studentinfo[3].split('/'):\n",
    "        scores.append(int(i))\n",
    "    for i in studentinfo[4].split('/'):\n",
    "        scores.append(int(i))    \n",
    "    for i in studentinfo[5].split('/'):\n",
    "        scores.append(int(i))\n",
    "    \n",
    "    largest = 0\n",
    "    second_largest = 0\n",
    "    for i in scores:\n",
    "        if i > largest:\n",
    "            second_largest = largest\n",
    "            largest = i\n",
    "        elif largest > i > second_largest:\n",
    "            second_largest = i\n",
    "   \n",
    "    rank_nomenclature = {0:'first',1:'second',2:'third',3:'fourth'}\n",
    "    largest_score = ''\n",
    "    second_largest_score = ''\n",
    "    \n",
    "    if scores.index(largest) < 3:\n",
    "        largest_score = f\"{rank_nomenclature[scores.index(largest)]} problem set\"\n",
    "    elif scores.index(largest) < 7:\n",
    "        largest_score = f\"{rank_nomenclature[scores.index(largest)-3]} test\"\n",
    "    else:\n",
    "        largest_score = f\"{rank_nomenclature[scores.index(largest)-7]} assignment\"\n",
    "    \n",
    "    if scores.index(second_largest) < 3:\n",
    "        second_largest_score = f\"{rank_nomenclature[scores.index(second_largest)]} problem set\"\n",
    "    elif scores.index(second_largest) < 7:\n",
    "        second_largest_score = f\"{rank_nomenclature[scores.index(second_largest)-3]} test\"\n",
    "    else:\n",
    "        second_largest_score = f\"{rank_nomenclature[scores.index(second_largest)-7]} assignment\"\n",
    "        \n",
    "    return str(largest_score + ' and ' + second_largest_score)\n",
    "\n",
    "top_scores(INFORMATION[0])"
   ]
  },
  {
   "cell_type": "code",
   "execution_count": 7,
   "metadata": {
    "collapsed": false
   },
   "outputs": [
    {
     "data": {
      "text/plain": [
       "'third problem set and second problem set'"
      ]
     },
     "execution_count": 7,
     "metadata": {
     },
     "output_type": "execute_result"
    }
   ],
   "source": [
    "# basically the same thing as above but for the lowest two scores\n",
    "\n",
    "def lowest_scores(studentinfo):\n",
    "    scores = []\n",
    "    for i in studentinfo[3].split('/'):\n",
    "        scores.append(int(i))\n",
    "    for i in studentinfo[4].split('/'):\n",
    "        scores.append(int(i))    \n",
    "    for i in studentinfo[5].split('/'):\n",
    "        scores.append(int(i))\n",
    "    \n",
    "    lowest = 100\n",
    "    second_lowest = 100\n",
    "    for i in scores:\n",
    "        if i < lowest:\n",
    "            second_lowest = lowest\n",
    "            lowest = i\n",
    "        elif lowest < i < second_lowest:\n",
    "            second_lowest = i\n",
    "\n",
    "    rank_nomenclature = {0:'first',1:'second',2:'third',3:'fourth'}\n",
    "    lowest_score = ''\n",
    "    second_lowest_score = ''\n",
    "    \n",
    "    if scores.index(lowest) < 3:\n",
    "        lowest_score = f\"{rank_nomenclature[scores.index(lowest)]} problem set\"\n",
    "    elif scores.index(lowest) < 7:\n",
    "        lowest_score = f\"{rank_nomenclature[scores.index(lowest)-3]} test\"\n",
    "    else:\n",
    "        lowest_score = f\"{rank_nomenclature[scores.index(lowest)-7]} assignment\"\n",
    "    \n",
    "    if scores.index(second_lowest) < 3:\n",
    "        second_lowest_score = f\"{rank_nomenclature[scores.index(second_lowest)]} problem set\"\n",
    "    elif scores.index(second_lowest) < 7:\n",
    "        second_lowest_score = f\"{rank_nomenclature[scores.index(second_lowest)-3]} test\"\n",
    "    else:\n",
    "        second_lowest_score = f\"{rank_nomenclature[scores.index(second_lowest)-7]} assignment\"\n",
    "        \n",
    "    return str(lowest_score + ' and ' + second_lowest_score)\n",
    "\n",
    "lowest_scores(INFORMATION[0])"
   ]
  },
  {
   "cell_type": "code",
   "execution_count": 24,
   "metadata": {
    "collapsed": false
   },
   "outputs": [
    {
     "data": {
      "text/plain": [
       "' Throughout the semester you showed proficiency in being able to express creativity using coding and technology in a variety of contexts. Furthermore, I really saw you thrive when working to identify and repair coding errors in a program. Your work across these learning outcomes are clear strengths of yours, and are evident in your fourth test and third test.'"
      ]
     },
     "execution_count": 24,
     "metadata": {
     },
     "output_type": "execute_result"
    }
   ],
   "source": [
    "# Strengths\n",
    "# highlights best two or three learning targets and references top two scoring assignments as evidence\n",
    "\n",
    "def strengths(studentinfo):\n",
    "    strong_LO = studentinfo[6].split('/')\n",
    "    strong_sentences = [' Throughout the semester you showed proficiency in being able to','really saw you thrive when working to','Another strong skill of yours is your ability to']\n",
    "    if strong_LO.index(strong_LO[-1]) == 1:\n",
    "        return f\"{strong_sentences[0]} {LO_dict[strong_LO[0]].lower()}. Furthermore, I {strong_sentences[1]} {LO_dict[strong_LO[1]].lower()}. Your work across these learning outcomes are clear strengths of yours, and are evident in your {top_scores(studentinfo)}.\"\n",
    "    else:\n",
    "        return f\"{strong_sentences[0]} {LO_dict[strong_LO[0]].lower()}. I also {strong_sentences[1]} {LO_dict[strong_LO[1]].lower()}. {strong_sentences[2]} {LO_dict[strong_LO[2]].lower()} Your work across these learning outcomes are clear strengths of yours, and are evident in your {top_scores(studentinfo)}.\"\n",
    "    \n",
    "strengths(INFORMATION[0])"
   ]
  },
  {
   "cell_type": "code",
   "execution_count": 11,
   "metadata": {
    "collapsed": false
   },
   "outputs": [
    {
     "data": {
      "text/plain": [
       "'  However, you still have room to improve when working to design, document, implement and test solutions to programming problems. Also, your ability to understand and be able to use a variety of data types, control structures, and algorithmic problem-solving techniques in their programming could be stronger as well with some practice. And I see in some of your work that sometimes you struggle to effectively communicate programming solutions to others. These struggles are more clearly seen in your third problem set and second problem set, and when thinking about the next semester, I recommend focusing on these areas to improve your proficiency.'"
      ]
     },
     "execution_count": 11,
     "metadata": {
     },
     "output_type": "execute_result"
    }
   ],
   "source": [
    "# same as strengths... but for weaknesses....\n",
    "\n",
    "def weaknesses(studentinfo):\n",
    "    weak_LO = studentinfo[7].split('/')\n",
    "    weak_sentences = ' However, you still have room to improve when working to','Also, your ability to','And I see in some of your work that sometimes you struggle to'\n",
    "    if weak_LO.index(weak_LO[-1]) == 1:\n",
    "        return f\" {weak_sentences[0]} {LO_dict[weak_LO[0]].lower()}. {weak_sentences[1]} {LO_dict[weak_LO[1]].lower()} could be stronger as well with some practice. These struggles are more clearly seen in your {lowest_scores(studentinfo)}, and when thinking about the next semester, I recommend focusing on these areas to improve your proficiency.\"\n",
    "    else:\n",
    "        return f\" {weak_sentences[0]} {LO_dict[weak_LO[0]].lower()}. {weak_sentences[1]} {LO_dict[weak_LO[1]].lower()} could be stronger as well with some practice. {weak_sentences[2]} {LO_dict[weak_LO[2]].lower()}. These struggles are more clearly seen in your {lowest_scores(studentinfo)}, and when thinking about the next semester, I recommend focusing on these areas to improve your proficiency.\"\n",
    "\n",
    "    \n",
    "weaknesses(INFORMATION[0])"
   ]
  },
  {
   "cell_type": "code",
   "execution_count": 0,
   "metadata": {
    "collapsed": false
   },
   "outputs": [
   ],
   "source": [
   ]
  },
  {
   "cell_type": "code",
   "execution_count": 12,
   "metadata": {
    "collapsed": false
   },
   "outputs": [
    {
     "data": {
      "text/plain": [
       "\" Throughout this semester, we have done a lot of work with problem sets. If you look at where you started, and where you are now, you have improved! However you are still under the B-range. You went from a 60 to a 77. Let's meet to discuss some options to get that higher\""
      ]
     },
     "execution_count": 12,
     "metadata": {
     },
     "output_type": "execute_result"
    }
   ],
   "source": [
    "# Problem sets, these next couple functions create a sentence talking about a specific type of assignemnt and the student's grades + if they improved\n",
    "\n",
    "def problem_sets(studentinfo):\n",
    "    starting = \" Throughout this semester, we have done a lot of work with problem sets.\"\n",
    "    overallimproved = False\n",
    "    overalllowered = False\n",
    "    stayedsame = True\n",
    "    grades = [int(grade) for grade in studentinfo[3].strip().split('/')]\n",
    "    maxgrade = max(grades)\n",
    "    average = sum(grades)/len(grades)\n",
    "    description = ''\n",
    "    for grade in grades:\n",
    "        if grade not in range(maxgrade - 6 ,maxgrade+1):\n",
    "            stayedsame = False\n",
    "    if stayedsame:\n",
    "        description += \" You haven't necessarily improved or gone down from the start of the year.\"\n",
    "        if maxgrade >= 90:\n",
    "            description += f\" Great job at consistently being on top of it and keeping that grade high with an average of around {int(average)}.\"\n",
    "        else:\n",
    "            description += f\" Let's meet sometime to discuss how to get your average grade of around {int(average)}, higher.\"\n",
    "    elif grades[0] - grades[-1] < 0:\n",
    "        overallimproved = True\n",
    "    elif grades[0] - grades[-1] > 0:\n",
    "        overalllowered = True\n",
    "    if overallimproved:\n",
    "        if maxgrade >= 85:\n",
    "            description += f' If you look at where you started, and where you are now, you have improved! You went from a {grades[0]} to a {grades[-1]}, great job!'\n",
    "        elif maxgrade < 85:\n",
    "            description += f\" If you look at where you started, and where you are now, you have improved! However you are still under the B-range. You went from a {grades[0]} to a {grades[-1]}. Let's meet to discuss some options to get that higher\"\n",
    "    if overalllowered:\n",
    "        if min(grades) < 85:\n",
    "            description += f\" If you look at where you started, and where you are now, you have not improved. You went from a {grades[0]} to a {grades[-1]}, with your lowest score being a {min(grades)}. Let's talk more about how to change your path to a better grade.\"\n",
    "        elif min(grades) >= 85:\n",
    "            description +=f' If you look at where you started, and where you are now, you have not improved. You went from a {grades[0]} to a {grades[-1]}. However, you are still in the B/higher range, so you are still okay. We can still talk about how to get that grade to go up.'\n",
    "    return str(starting + description)\n",
    "problem_sets(INFORMATION[3])      "
   ]
  },
  {
   "cell_type": "code",
   "execution_count": 13,
   "metadata": {
    "collapsed": false
   },
   "outputs": [
   ],
   "source": [
    "# Course Description\n",
    "\n",
    "course_desc = 'Through the use of lectures, practice exercises, problem sets, and projects, students worked towards mastering the fundamentals of computational thinking and problem-solving using the Python programming language. Successful student now know and are able to use Python syntax, data types, program organization, algorithm design, and control structures. A successful student will be able to develop efficient, readable algorithms and debug code when necessary as well as clearly communicate their understanding of programming concepts.'"
   ]
  },
  {
   "cell_type": "code",
   "execution_count": 14,
   "metadata": {
    "collapsed": false
   },
   "outputs": [
    {
     "data": {
      "text/plain": [
       "\" We also have had assignments for homework to learn with hands on material. You haven't necessarily improved or gone down from the start of the year. Your average assignment grades have been lower than I would like, sitting around 80. We need to work on this!\""
      ]
     },
     "execution_count": 14,
     "metadata": {
     },
     "output_type": "execute_result"
    }
   ],
   "source": [
    "# Assignments\n",
    "def assignments(studentinfo):\n",
    "    starting = \" We also have had assignments for homework to learn with hands on material.\"\n",
    "    overallimproved = False\n",
    "    overalllowered = False\n",
    "    stayedsame = True\n",
    "    grades = [int(grade) for grade in studentinfo[5].strip().split('/')]\n",
    "    maxgrade = max(grades)\n",
    "    average = sum(grades)/len(grades)\n",
    "    description = ''\n",
    "    \n",
    "    for grade in grades:\n",
    "        if grade not in range(maxgrade - 6 ,maxgrade+1):\n",
    "            stayedsame = False\n",
    "    if stayedsame:\n",
    "        sen1 = \" You haven't necessarily improved or gone down from the start of the year.\"\n",
    "        description += sen1\n",
    "        if int(average) >= 85:\n",
    "            sen2 = f\" However, you are getting great grades for the most part, so you have been consitently at the top with an average around {int(average)}. Great work, {studentinfo[0]}!\"\n",
    "            description += sen2\n",
    "        else:\n",
    "            sen2 = f\" Your average assignment grades have been lower than I would like, sitting around {int(average)}. We need to work on this!\"\n",
    "            description += sen2\n",
    "    elif grades[0] - grades[-1] < 0:\n",
    "        overallimproved = True\n",
    "    elif grades[0] - grades[-1] > 0:\n",
    "        overalllowered = True\n",
    "    if overallimproved:\n",
    "        if int(average) >= 85:\n",
    "            sen2 = f' If you look at where you started, and where you are now, you have improved on your assingments! You went from a {grades[0]} to a {grades[-1]}, great job!'\n",
    "            description += sen2\n",
    "        elif int(average) < 85:\n",
    "            sen2 = f\" If you look at where you started, and where you are now, you have improved! However you are still under the B-range. You went from a {grades[0]} to a {grades[-1]}. Let's meet to discuss some options to get that higher.\"\n",
    "            description += sen2\n",
    "    if overalllowered:\n",
    "        if int(average) < 85:\n",
    "            sen2 = f\" If you look at where you started, and where you are now, you have not improved. You went from a {grades[0]} to a {grades[-1]}, with your lowest score being a {min(grades)}. Let's talk more about how to change your path to a better grade.\"\n",
    "            description += sen2\n",
    "        elif int(average) >= 85:\n",
    "            sen2 = f' If you look at where you started, and where you are now, you have not improved. You went from a {grades[0]} to a {grades[-1]}. However, you are still in the B/higher range, so you are still okay. We can still talk about how to get that grade to go up.'\n",
    "            description+= sen2\n",
    "    return str(starting + description)\n",
    "assignments(INFORMATION[3])"
   ]
  },
  {
   "cell_type": "code",
   "execution_count": 18,
   "metadata": {
    "collapsed": false
   },
   "outputs": [
    {
     "data": {
      "text/plain": [
       "\" I also have more formal tests at the end of each unit to asses on each student's ability to apply their newly gained knowledge. You have had excellent growth from when you started at the beginning of the year. Your test scores went from a 78 to a 91, great job and keep it up!\""
      ]
     },
     "execution_count": 18,
     "metadata": {
     },
     "output_type": "execute_result"
    }
   ],
   "source": [
    "# Tests\n",
    "def tests(studentinfo):\n",
    "    starting = \" I also have more formal tests at the end of each unit to asses on each student's ability to apply their newly gained knowledge.\"\n",
    "    overallimproved = False\n",
    "    overalllowered = False\n",
    "    stayedsame = True\n",
    "    grades = [int(grade) for grade in studentinfo[4].strip().split('/')]\n",
    "    maxgrade = max(grades)\n",
    "    average = sum(grades)/len(grades)\n",
    "    description = ''\n",
    "    for grade in grades:\n",
    "        if grade not in range(maxgrade - 6 ,maxgrade+1):\n",
    "            stayedsame = False\n",
    "    if stayedsame:\n",
    "        description += \" In terms of these tests, you haven stayed consistent in your grades.\"\n",
    "        if maxgrade >= 90:\n",
    "            description += f\" Your average grade for a test is {int(average)}, which is well within passing range. Great job at keeping it up.\"\n",
    "        else:\n",
    "            description += f\" Unfortunatly, you are not at the level that you need to be for these tests, {studentinfo[0]}. You are averaging around {int(average)}, which needs to get raised.\"\n",
    "    elif grades[0] - grades[-1] < 0:\n",
    "        overallimproved = True\n",
    "    elif grades[0] - grades[-1] > 0:\n",
    "        overalllowered = True\n",
    "    if overallimproved:\n",
    "        if maxgrade >= 85:\n",
    "            description += f' You have had excellent growth from when you started at the beginning of the year. Your test scores went from a {grades[0]} to a {grades[-1]}, great job and keep it up!'\n",
    "        elif maxgrade < 85:\n",
    "            description += f\" You have showed growth from when you started at the beginning of the year. You went from a {grades[0]} to a {grades[-1]}, which means you are still under the B-range. Let's meet to discuss some options to get that higher.\"\n",
    "    if overalllowered:\n",
    "        if min(grades) < 85:\n",
    "            description += f\" If you look at where you started, and where you are now, you have not improved on these unit assesments. You went from a {grades[0]} to a {grades[-1]}, with your lowest score being a {min(grades)}. Let's talk more about how to shift your thinking and get this path to become an upward slope.\"\n",
    "        elif min(grades) >= 85:\n",
    "            description +=f' Though you have gone down slightly from when you started, with a {grades[0]} to a {grades[-1]}, your grade is up there in the B/higher range, so you are doing a great job. However, we should meet to see if we can get you improving in this upcoming quarter.'\n",
    "    return str(starting + description)\n",
    "tests(INFORMATION[2]) "
   ]
  },
  {
   "cell_type": "code",
   "execution_count": 0,
   "metadata": {
    "collapsed": false
   },
   "outputs": [
   ],
   "source": [
   ]
  },
  {
   "cell_type": "code",
   "execution_count": 0,
   "metadata": {
    "collapsed": false
   },
   "outputs": [
   ],
   "source": [
   ]
  },
  {
   "cell_type": "code",
   "execution_count": 23,
   "metadata": {
    "collapsed": false
   },
   "outputs": [
    {
     "data": {
      "text/plain": [
       "' Overall, you showed some strong work in some assignments, but definitely struggled with some others. With more time I beleive you can improve your proficiency in the learning outcomes and assignments you had more trouble with. Next semester will help you practice these skills more, and will expand upon the skills you have already mastered. Your final grade for the semester is a B.'"
      ]
     },
     "execution_count": 23,
     "metadata": {
     },
     "output_type": "execute_result"
    }
   ],
   "source": [
    "# Overall grade\n",
    "# kind of a conclusion paragraph\n",
    "\n",
    "def overall_grade(studentinfo):\n",
    "    grade_score = {'A+':0,'A':1,'A-':2,'B+':3,'B':4,'B-':5,'C+':6,'C':7,'C-':8,'D+':9,'D':10,'D-':11,'F':12}\n",
    "    if grade_score[studentinfo[8]] < 2:\n",
    "        comment = ' Overall, you showed some extremely strong work and proficiency in many different areas, great job! It was fantastic having you as a learner in class, keep up the good work next semester!'\n",
    "    elif grade_score[studentinfo[8]] < 4:\n",
    "        comment = ' Overall, you did a good job this semester. You showed proficiency in most of the learning outcomes highlighted throughout the course, and did some strong work on assignments. While there is some room to improve for next semester, I am excited to see how you do!'\n",
    "    elif grade_score[studentinfo[8]] < 6:\n",
    "        comment = ' Overall, you showed some strong work in some assignments, but definitely struggled with some others. With more time I beleive you can improve your proficiency in the learning outcomes and assignments you had more trouble with. Next semester will help you practice these skills more, and will expand upon the skills you have already mastered.'\n",
    "    elif grade_score[studentinfo[8]] < 9:\n",
    "        comment = ' Overall, I think this course was a bit difficult for you. You struggled with many assignments and learning outcomes, but if you work hard, I believe that these skills can be improved for next semester if you take it. Utilizing out of class resources such as the loom videos, your peers, or other online sources may help you if you are stuck on a problem. I would also recommend some extra practice if you wish to take the next course, there are many free websites that offer practice problems that may prove helpful!'\n",
    "    else:\n",
    "        comment = ' Overall, you really struggled with this class.'\n",
    "    return comment + f\" Your final grade for the semester is a {studentinfo[8]}.\"\n",
    "overall_grade(INFORMATION[0])"
   ]
  },
  {
   "cell_type": "code",
   "execution_count": 0,
   "metadata": {
    "collapsed": false
   },
   "outputs": [
   ],
   "source": [
   ]
  },
  {
   "cell_type": "code",
   "execution_count": 26,
   "metadata": {
    "collapsed": false
   },
   "outputs": [
   ],
   "source": [
    "#throwing it all together !!!\n",
    "# first part: course desc\n",
    "# second part: good/bad attributes and problem set + test + assignment grades\n",
    "# third part: strengths + weaknesses\n",
    "# fourth part: conclusion + final grade\n",
    "\n",
    "def comment_writer(mystudentinfo):\n",
    "    return course_desc + attributes(mystudentinfo)  + problem_sets(mystudentinfo) + assignments(mystudentinfo) + tests(mystudentinfo) + strengths(mystudentinfo) + weaknesses(mystudentinfo) + overall_grade(mystudentinfo)\n",
    "    \n",
    "for student in INFORMATION:\n",
    "    with open(f\"{student[0]}.txt\", 'w') as f:\n",
    "        f.write(comment_writer(student))"
   ]
  },
  {
   "cell_type": "code",
   "execution_count": 0,
   "metadata": {
    "collapsed": false
   },
   "outputs": [
   ],
   "source": [
   ]
  },
  {
   "cell_type": "code",
   "execution_count": 0,
   "metadata": {
    "collapsed": false
   },
   "outputs": [
   ],
   "source": [
   ]
  },
  {
   "cell_type": "code",
   "execution_count": 0,
   "metadata": {
    "collapsed": false
   },
   "outputs": [
   ],
   "source": [
   ]
  },
  {
   "cell_type": "code",
   "execution_count": 0,
   "metadata": {
    "collapsed": false
   },
   "outputs": [
   ],
   "source": [
   ]
  },
  {
   "cell_type": "code",
   "execution_count": 0,
   "metadata": {
    "collapsed": false
   },
   "outputs": [
   ],
   "source": [
   ]
  },
  {
   "cell_type": "code",
   "execution_count": 0,
   "metadata": {
    "collapsed": false
   },
   "outputs": [
   ],
   "source": [
   ]
  }
 ],
 "metadata": {
  "kernelspec": {
   "argv": [
    "/usr/bin/python3",
    "-m",
    "ipykernel",
    "--HistoryManager.enabled=False",
    "--matplotlib=inline",
    "-c",
    "%config InlineBackend.figure_formats = set(['retina'])\nimport matplotlib; matplotlib.rcParams['figure.figsize'] = (12, 7)",
    "-f",
    "{connection_file}"
   ],
   "display_name": "Python 3 (system-wide)",
   "env": {
   },
   "language": "python",
   "metadata": {
    "cocalc": {
     "description": "Python 3 programming language",
     "priority": 100,
     "url": "https://www.python.org/"
    }
   },
   "name": "python3",
   "resource_dir": "/ext/jupyter/kernels/python3"
  },
  "language_info": {
   "codemirror_mode": {
    "name": "ipython",
    "version": 3
   },
   "file_extension": ".py",
   "mimetype": "text/x-python",
   "name": "python",
   "nbconvert_exporter": "python",
   "pygments_lexer": "ipython3",
   "version": "3.10.12"
  }
 },
 "nbformat": 4,
 "nbformat_minor": 4
}